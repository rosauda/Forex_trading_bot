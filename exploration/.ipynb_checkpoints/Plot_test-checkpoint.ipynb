{
 "cells": [
  {
   "cell_type": "markdown",
   "id": "2f54ed8b",
   "metadata": {},
   "source": [
    "### Importing libraries"
   ]
  },
  {
   "cell_type": "code",
   "execution_count": null,
   "id": "65778312",
   "metadata": {},
   "outputs": [],
   "source": [
    "import pandas as pd\n",
    "import plotly.graph_objects as go\n",
    "import datetime as dt"
   ]
  },
  {
   "cell_type": "markdown",
   "id": "5ec7d8b3",
   "metadata": {},
   "source": [
    "### Reading data"
   ]
  },
  {
   "cell_type": "code",
   "execution_count": null,
   "id": "67488557",
   "metadata": {},
   "outputs": [],
   "source": [
    "pair = \"EUR_USD\"\n",
    "granularity = \"H4\"\n",
    "df = pd.read_pickle(f\"../data/{pair}_{granularity}.pkl\")"
   ]
  },
  {
   "cell_type": "code",
   "execution_count": null,
   "id": "aaff50ac",
   "metadata": {
    "scrolled": true
   },
   "outputs": [],
   "source": [
    "df.tail"
   ]
  },
  {
   "cell_type": "code",
   "execution_count": null,
   "id": "9005c420",
   "metadata": {},
   "outputs": [],
   "source": [
    "df['sTime'] = [dt.datetime.strftime(x, \"s%y-%m-%d %H:%M\") for x in df.time]"
   ]
  },
  {
   "cell_type": "markdown",
   "id": "049a96ed",
   "metadata": {},
   "source": [
    "### Plotting Candlestick"
   ]
  },
  {
   "cell_type": "code",
   "execution_count": null,
   "id": "95bdd52f",
   "metadata": {},
   "outputs": [],
   "source": [
    "df_plot = df.iloc[:100]"
   ]
  },
  {
   "cell_type": "code",
   "execution_count": null,
   "id": "b5aa1551",
   "metadata": {
    "scrolled": false
   },
   "outputs": [],
   "source": [
    "fig = go.Figure()\n",
    "fig.add_trace(go.Candlestick(\n",
    "    x = df_plot.sTime,\n",
    "    open = df_plot.mid_o,\n",
    "    high = df_plot.mid_h,\n",
    "    low = df_plot.mid_l,\n",
    "    close = df_plot.mid_c,\n",
    "    line = dict(width=1), opacity=1,\n",
    "    increasing_fillcolor='#24A06B',\n",
    "    decreasing_fillcolor='#CC2E3C',\n",
    "    increasing_line_color='#2EC886',\n",
    "    decreasing_line_color='#FF3A4C'    \n",
    "))\n",
    "\n",
    "fig.update_yaxes(\n",
    "    gridcolor=\"#1f292f\"\n",
    ")\n",
    "\n",
    "fig.update_xaxes(\n",
    "    gridcolor=\"#1f292f\",\n",
    "    rangeslider=dict(visible=False),\n",
    "    nticks=10\n",
    ")\n",
    "\n",
    "fig.update_layout(\n",
    "    width=1500,\n",
    "    height=600,\n",
    "    margin=dict(l=10, r=10, b=10, t=10),\n",
    "    paper_bgcolor=\"#2c303c\",\n",
    "    plot_bgcolor=\"#2c303c\",\n",
    "    font=dict(size=8, color=\"#e1e1e1\")\n",
    ")\n",
    "\n",
    "fig.show()"
   ]
  },
  {
   "cell_type": "code",
   "execution_count": null,
   "id": "676c64b5",
   "metadata": {},
   "outputs": [],
   "source": []
  },
  {
   "cell_type": "code",
   "execution_count": null,
   "id": "bafe4761",
   "metadata": {},
   "outputs": [],
   "source": []
  },
  {
   "cell_type": "code",
   "execution_count": null,
   "id": "14479e3c",
   "metadata": {},
   "outputs": [],
   "source": []
  }
 ],
 "metadata": {
  "kernelspec": {
   "display_name": "Python 3 (ipykernel)",
   "language": "python",
   "name": "python3"
  },
  "language_info": {
   "codemirror_mode": {
    "name": "ipython",
    "version": 3
   },
   "file_extension": ".py",
   "mimetype": "text/x-python",
   "name": "python",
   "nbconvert_exporter": "python",
   "pygments_lexer": "ipython3",
   "version": "3.9.13"
  }
 },
 "nbformat": 4,
 "nbformat_minor": 5
}
